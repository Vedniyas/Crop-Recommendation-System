{
 "cells": [
  {
   "cell_type": "code",
   "execution_count": 1,
   "id": "e33acb99",
   "metadata": {},
   "outputs": [
    {
     "name": "stderr",
     "output_type": "stream",
     "text": [
      "/Users/vedniyasvyas/anaconda3/lib/python3.11/site-packages/pandas/core/arrays/masked.py:60: UserWarning: Pandas requires version '1.3.6' or newer of 'bottleneck' (version '1.3.5' currently installed).\n",
      "  from pandas.core import (\n"
     ]
    }
   ],
   "source": [
    "from flask import Flask, request, render_template\n",
    "import numpy as np\n",
    "import pickle\n",
    "from tensorflow.keras.models import load_model\n",
    "\n",
    "# Load model and scalers\n",
    "model = load_model('crop_model_dl.keras')\n",
    "sc = pickle.load(open('standscaler.pkl', 'rb'))\n",
    "ms = pickle.load(open('minmaxscaler.pkl', 'rb'))\n"
   ]
  },
  {
   "cell_type": "code",
   "execution_count": 2,
   "id": "4ff21df7",
   "metadata": {},
   "outputs": [],
   "source": [
    "\n",
    "# Flask App\n",
    "app = Flask(__name__)\n",
    "\n",
    "@app.route('/')\n",
    "def index():\n",
    "    return render_template(\"index.html\")\n",
    "\n",
    "@app.route('/recommend')\n",
    "def recommend_page():\n",
    "    return render_template(\"recommend.html\")\n",
    "\n",
    "@app.route(\"/crop-info/<crop_name>\")\n",
    "def crop_info(crop_name):\n",
    "    crop_data = {\n",
    "        \"rice\": {\"temperature\": \"20°C - 35°C\", \"ph\": \"5.5 - 7\", \"rainfall\": \"1000mm - 2000mm\", \"soil\": \"Clayey or loamy soil\", \"image\": \"rice.jpg\"},\n",
    "        \"maize\": {\"temperature\": \"18°C - 27°C\", \"ph\": \"5.5 - 7.5\", \"rainfall\": \"500mm - 800mm\", \"soil\": \"Fertile, well-drained loamy soil\", \"image\": \"maize.jpg\"},\n",
    "        \"jute\": {\"temperature\": \"24°C - 37°C\", \"ph\": \"6 - 7.5\", \"rainfall\": \"1500mm - 2500mm\", \"soil\": \"Alluvial soil rich in loam\", \"image\": \"jute.jpg\"},\n",
    "        \"cotton\": {\"temperature\": \"21°C - 30°C\", \"ph\": \"5.8 - 8\", \"rainfall\": \"600mm - 1200mm\", \"soil\": \"Black soil or alluvial soil\", \"image\": \"cotton.jpg\"},\n",
    "        \"coconut\": {\"temperature\": \"21°C - 32°C\", \"ph\": \"5.2 - 8.6\", \"rainfall\": \"1000mm - 3000mm\", \"soil\": \"Sandy loam to alluvial soil\", \"image\": \"coconut.jpg\"},\n",
    "        \"papaya\": {\"temperature\": \"25°C - 30°C\", \"ph\": \"5.5 - 7\", \"rainfall\": \"1000mm - 2000mm\", \"soil\": \"Well-drained loamy soil\", \"image\": \"papaya.jpg\"},\n",
    "        \"orange\": {\"temperature\": \"10°C - 35°C\", \"ph\": \"5.5 - 7.5\", \"rainfall\": \"750mm - 2500mm\", \"soil\": \"Loamy soil rich in organic content\", \"image\": \"orange.jpg\"},\n",
    "        \"apple\": {\"temperature\": \"6°C - 15°C\", \"ph\": \"6 - 7\", \"rainfall\": \"1000mm - 1250mm\", \"soil\": \"Loamy soil with good drainage\", \"image\": \"apple.jpg\"},\n",
    "        \"muskmelon\": {\"temperature\": \"18°C - 30°C\", \"ph\": \"6 - 6.8\", \"rainfall\": \"400mm - 600mm\", \"soil\": \"Sandy loam to loamy soil\", \"image\": \"muskmelon.jpg\"},\n",
    "        \"watermelon\": {\"temperature\": \"24°C - 30°C\", \"ph\": \"6 - 6.8\", \"rainfall\": \"500mm - 1000mm\", \"soil\": \"Loamy soil rich in organic matter\", \"image\": \"watermelon.jpg\"},\n",
    "        \"grapes\": {\"temperature\": \"15°C - 40°C\", \"ph\": \"6.5 - 7.5\", \"rainfall\": \"700mm - 1200mm\", \"soil\": \"Well-drained sandy loam\", \"image\": \"grapes.jpg\"},\n",
    "        \"mango\": {\"temperature\": \"24°C - 30°C\", \"ph\": \"5.5 - 7.5\", \"rainfall\": \"750mm - 2500mm\", \"soil\": \"Well-drained sandy loam\", \"image\": \"mango.jpg\"},\n",
    "        \"banana\": {\"temperature\": \"26°C - 30°C\", \"ph\": \"5.5 - 7\", \"rainfall\": \"1000mm - 2000mm\", \"soil\": \"Well-drained fertile loamy soil\", \"image\": \"banana.jpg\"},\n",
    "        \"pomegranate\": {\"temperature\": \"25°C - 35°C\", \"ph\": \"5.5 - 7.5\", \"rainfall\": \"500mm - 800mm\", \"soil\": \"Sandy loam to black soil\", \"image\": \"pomegranate.jpg\"},\n",
    "        \"lentil\": {\"temperature\": \"18°C - 30°C\", \"ph\": \"6 - 7.5\", \"rainfall\": \"600mm - 1000mm\", \"soil\": \"Loamy to clay loam soil\", \"image\": \"lentil.jpg\"},\n",
    "        \"blackgram\": {\"temperature\": \"25°C - 35°C\", \"ph\": \"6 - 7.5\", \"rainfall\": \"800mm - 1000mm\", \"soil\": \"Well-drained loamy soil\", \"image\": \"blackgram.jpg\"},\n",
    "        \"mungbean\": {\"temperature\": \"25°C - 35°C\", \"ph\": \"6.2 - 7.2\", \"rainfall\": \"600mm - 1000mm\", \"soil\": \"Well-drained loamy to sandy loam\", \"image\": \"mungbean.jpg\"},\n",
    "        \"mothbeans\": {\"temperature\": \"25°C - 35°C\", \"ph\": \"6.5 - 7.5\", \"rainfall\": \"500mm - 750mm\", \"soil\": \"Light textured soils\", \"image\": \"mothbeans.jpg\"},\n",
    "        \"pigeonpeas\": {\"temperature\": \"26°C - 30°C\", \"ph\": \"5.5 - 7\", \"rainfall\": \"600mm - 1000mm\", \"soil\": \"Loamy to clay loam soils\", \"image\": \"pigeonpeas.jpg\"},\n",
    "        \"kidneybeans\": {\"temperature\": \"18°C - 24°C\", \"ph\": \"6 - 7\", \"rainfall\": \"500mm - 800mm\", \"soil\": \"Fertile loamy soils\", \"image\": \"kidneybeans.jpg\"},\n",
    "        \"chickpea\": {\"temperature\": \"20°C - 30°C\", \"ph\": \"6 - 9\", \"rainfall\": \"600mm - 1000mm\", \"soil\": \"Loamy to sandy soil\", \"image\": \"chickpea.jpg\"},\n",
    "        \"coffee\": {\"temperature\": \"15°C - 28°C\", \"ph\": \"6 - 6.5\", \"rainfall\": \"1500mm - 2500mm\", \"soil\": \"Well-drained fertile soil\", \"image\": \"coffee.jpg\"}\n",
    "    }\n",
    "\n",
    "    info = crop_data.get(crop_name.lower())\n",
    "    if info:\n",
    "        return render_template(\"crop_info.html\", crop_name=crop_name.title(), info=info)\n",
    "    elif crop_name  == 'all':\n",
    "        for crop in crop_data:\n",
    "            info = crop_data.get(crop.lower())\n",
    "            if info:\n",
    "                return render_template(\"crop_info.html\", crop=crop.title(), info=info)\n",
    "    else:\n",
    "        return \"Crop info not found!\", 404\n",
    "\n",
    "    \n",
    "@app.route(\"/weather\")\n",
    "def weather():\n",
    "    return render_template(\"weather.html\")\n",
    "\n",
    "@app.route(\"/predict\", methods=['POST'])\n",
    "def predict():\n",
    "    try:\n",
    "        N = float(request.form['Nitrogen'])\n",
    "        P = float(request.form['Phosporus'])\n",
    "        K = float(request.form['Potassium'])\n",
    "        temp = float(request.form['Temperature'])\n",
    "        humidity = float(request.form['Humidity'])\n",
    "        ph = float(request.form['Ph'])\n",
    "        rainfall = float(request.form['Rainfall'])\n",
    "    except ValueError:\n",
    "        return render_template('recommend.html', result=\"Invalid input. Please enter valid numerical values.\")\n",
    "\n",
    "    # Input processing\n",
    "    features = np.array([[N, P, K, temp, humidity, ph, rainfall]])\n",
    "    scaled = sc.transform(ms.transform(features))\n",
    "\n",
    "    # Prediction\n",
    "    prediction = model.predict(scaled)[0]\n",
    "    top_indices = prediction.argsort()[-3:][::-1]\n",
    "\n",
    "    crop_dict = {\n",
    "        0: \"Rice\", 1: \"Maize\", 2: \"Jute\", 3: \"Cotton\", 4: \"Coconut\", 5: \"Papaya\",\n",
    "        6: \"Orange\", 7: \"Apple\", 8: \"Muskmelon\", 9: \"Watermelon\", 10: \"Grapes\",\n",
    "        11: \"Mango\", 12: \"Banana\", 13: \"Pomegranate\", 14: \"Lentil\", 15: \"Blackgram\",\n",
    "        16: \"Mungbean\", 17: \"Mothbeans\", 18: \"Pigeonpeas\", 19: \"Kidneybeans\",\n",
    "        20: \"Chickpea\", 21: \"Coffee\"\n",
    "    }\n",
    "\n",
    "    top_crops = [crop_dict.get(idx, \"Unknown Crop\") for idx in top_indices]\n",
    "    result = \"Top 3 recommended crops:\\n\"\n",
    "    for i, crop in enumerate(top_crops, 1):\n",
    "        result += f\"{i}. {crop}\\n\"\n",
    "\n",
    "    return render_template('recommend.html', result=result)\n"
   ]
  },
  {
   "cell_type": "code",
   "execution_count": null,
   "id": "b48431a8",
   "metadata": {},
   "outputs": [
    {
     "name": "stdout",
     "output_type": "stream",
     "text": [
      " * Serving Flask app '__main__'\n",
      " * Debug mode: off\n"
     ]
    },
    {
     "name": "stderr",
     "output_type": "stream",
     "text": [
      "WARNING: This is a development server. Do not use it in a production deployment. Use a production WSGI server instead.\n",
      " * Running on http://127.0.0.1:5001\n",
      "Press CTRL+C to quit\n",
      "127.0.0.1 - - [19/Apr/2025 14:18:38] \"GET / HTTP/1.1\" 200 -\n",
      "127.0.0.1 - - [19/Apr/2025 14:18:40] \"GET /crop-info/all HTTP/1.1\" 200 -\n",
      "127.0.0.1 - - [19/Apr/2025 14:18:40] \"GET /static/images/rice.jpg HTTP/1.1\" 304 -\n",
      "127.0.0.1 - - [19/Apr/2025 14:18:57] \"GET / HTTP/1.1\" 200 -\n"
     ]
    }
   ],
   "source": [
    "\n",
    "if __name__ == \"__main__\":\n",
    "    app.run(port=5001)\n"
   ]
  },
  {
   "cell_type": "code",
   "execution_count": null,
   "id": "9acf6a16",
   "metadata": {},
   "outputs": [],
   "source": []
  },
  {
   "cell_type": "code",
   "execution_count": null,
   "id": "53bf39a4",
   "metadata": {},
   "outputs": [],
   "source": []
  }
 ],
 "metadata": {
  "kernelspec": {
   "display_name": "Python 3 (ipykernel)",
   "language": "python",
   "name": "python3"
  },
  "language_info": {
   "codemirror_mode": {
    "name": "ipython",
    "version": 3
   },
   "file_extension": ".py",
   "mimetype": "text/x-python",
   "name": "python",
   "nbconvert_exporter": "python",
   "pygments_lexer": "ipython3",
   "version": "3.11.4"
  }
 },
 "nbformat": 4,
 "nbformat_minor": 5
}
